{
 "cells": [
  {
   "cell_type": "markdown",
   "metadata": {},
   "source": [
    "### Project - MovieLens Data Analysis\n",
    "\n",
    "The GroupLens Research Project is a research group in the Department of Computer Science and Engineering at the University of Minnesota. The data is widely used for collaborative filtering and other filtering solutions. However, we will be using this data to act as a means to demonstrate our skill in using Python to “play” with data.\n",
    "\n",
    "#### Domain \n",
    "Internet and Entertainment\n",
    "\n",
    "**Note that the project will need you to apply the concepts of groupby and merging extensively.**"
   ]
  },
  {
   "cell_type": "code",
   "execution_count": null,
   "metadata": {},
   "outputs": [],
   "source": []
  },
  {
   "cell_type": "markdown",
   "metadata": {},
   "source": [
    "#### 1. Import the necessary packages - 2.5 marks"
   ]
  },
  {
   "cell_type": "code",
   "execution_count": 1,
   "metadata": {},
   "outputs": [],
   "source": [
    "import pandas as pd\n",
    "import numpy as np\n",
    "import matplotlib.pyplot as plt\n",
    "import seaborn as sns\n",
    "sns.set(color_codes=True) # adds a nice background to the graphs\n",
    "%matplotlib inline \n",
    "sns.set_style('darkgrid')"
   ]
  },
  {
   "cell_type": "markdown",
   "metadata": {},
   "source": [
    "#### 2. Read the 3 datasets into dataframes - 2.5 marks"
   ]
  },
  {
   "cell_type": "code",
   "execution_count": 2,
   "metadata": {
    "scrolled": true
   },
   "outputs": [],
   "source": [
    "Data = pd.read_csv('Data.csv')\n",
    "Item = pd.read_csv('item.csv')\n",
    "User = pd.read_csv('user.csv')"
   ]
  },
  {
   "cell_type": "markdown",
   "metadata": {},
   "source": [
    "#### 3. Apply info, shape, describe, and find the number of missing values in the data - 5 marks"
   ]
  },
  {
   "cell_type": "code",
   "execution_count": 3,
   "metadata": {},
   "outputs": [
    {
     "name": "stdout",
     "output_type": "stream",
     "text": [
      "Data.csv File Information\n",
      "\n",
      "First 5 rows of Data\n",
      "   user id  movie id  rating  timestamp\n",
      "0      196       242       3  881250949\n",
      "1      186       302       3  891717742\n",
      "2       22       377       1  878887116\n",
      "3      244        51       2  880606923\n",
      "4      166       346       1  886397596\n",
      "\n",
      "Information of data\n",
      "<class 'pandas.core.frame.DataFrame'>\n",
      "RangeIndex: 100000 entries, 0 to 99999\n",
      "Data columns (total 4 columns):\n",
      " #   Column     Non-Null Count   Dtype\n",
      "---  ------     --------------   -----\n",
      " 0   user id    100000 non-null  int64\n",
      " 1   movie id   100000 non-null  int64\n",
      " 2   rating     100000 non-null  int64\n",
      " 3   timestamp  100000 non-null  int64\n",
      "dtypes: int64(4)\n",
      "memory usage: 3.1 MB\n",
      "None\n",
      "\n",
      "Describe of data\n",
      "            user id       movie id         rating     timestamp\n",
      "count  100000.00000  100000.000000  100000.000000  1.000000e+05\n",
      "mean      462.48475     425.530130       3.529860  8.835289e+08\n",
      "std       266.61442     330.798356       1.125674  5.343856e+06\n",
      "min         1.00000       1.000000       1.000000  8.747247e+08\n",
      "25%       254.00000     175.000000       3.000000  8.794487e+08\n",
      "50%       447.00000     322.000000       4.000000  8.828269e+08\n",
      "75%       682.00000     631.000000       4.000000  8.882600e+08\n",
      "max       943.00000    1682.000000       5.000000  8.932866e+08\n",
      "\n",
      "Shape of Data\n",
      "(100000, 4)\n",
      "\n",
      "Number of missing Values\n",
      "user id      0\n",
      "movie id     0\n",
      "rating       0\n",
      "timestamp    0\n",
      "dtype: int64\n",
      "\n"
     ]
    }
   ],
   "source": [
    "print('Data.csv File Information')\n",
    "print()\n",
    "print('First 5 rows of Data')\n",
    "print(Data.head())\n",
    "print()\n",
    "print('Information of data')\n",
    "print(Data.info())\n",
    "print()\n",
    "print('Describe of data')\n",
    "print(Data.describe())\n",
    "print()\n",
    "print('Shape of Data')\n",
    "print(Data.shape)\n",
    "print()\n",
    "print('Number of missing Values')\n",
    "print(Data.isnull().sum())\n",
    "print()\n"
   ]
  },
  {
   "cell_type": "code",
   "execution_count": 4,
   "metadata": {},
   "outputs": [
    {
     "name": "stdout",
     "output_type": "stream",
     "text": [
      "item.csv File Information\n",
      "\n",
      "First 5 rows of Data\n",
      "   movie id  movie title release date  unknown  Action  Adventure  Animation  \\\n",
      "0         1   Toy Story   01-Jan-1995        0       0          0          1   \n",
      "1         2   GoldenEye   01-Jan-1995        0       1          1          0   \n",
      "2         3  Four Rooms   01-Jan-1995        0       0          0          0   \n",
      "3         4  Get Shorty   01-Jan-1995        0       1          0          0   \n",
      "4         5     Copycat   01-Jan-1995        0       0          0          0   \n",
      "\n",
      "   Childrens  Comedy  Crime  ...  Fantasy  Film-Noir  Horror  Musical  \\\n",
      "0          1       1      0  ...        0          0       0        0   \n",
      "1          0       0      0  ...        0          0       0        0   \n",
      "2          0       0      0  ...        0          0       0        0   \n",
      "3          0       1      0  ...        0          0       0        0   \n",
      "4          0       0      1  ...        0          0       0        0   \n",
      "\n",
      "   Mystery  Romance  Sci-Fi  Thriller  War  Western  \n",
      "0        0        0       0         0    0        0  \n",
      "1        0        0       0         1    0        0  \n",
      "2        0        0       0         1    0        0  \n",
      "3        0        0       0         0    0        0  \n",
      "4        0        0       0         1    0        0  \n",
      "\n",
      "[5 rows x 22 columns]\n",
      "\n",
      "Information of data\n",
      "<class 'pandas.core.frame.DataFrame'>\n",
      "RangeIndex: 1681 entries, 0 to 1680\n",
      "Data columns (total 22 columns):\n",
      " #   Column        Non-Null Count  Dtype \n",
      "---  ------        --------------  ----- \n",
      " 0   movie id      1681 non-null   int64 \n",
      " 1   movie title   1681 non-null   object\n",
      " 2   release date  1681 non-null   object\n",
      " 3   unknown       1681 non-null   int64 \n",
      " 4   Action        1681 non-null   int64 \n",
      " 5   Adventure     1681 non-null   int64 \n",
      " 6   Animation     1681 non-null   int64 \n",
      " 7   Childrens     1681 non-null   int64 \n",
      " 8   Comedy        1681 non-null   int64 \n",
      " 9   Crime         1681 non-null   int64 \n",
      " 10  Documentary   1681 non-null   int64 \n",
      " 11  Drama         1681 non-null   int64 \n",
      " 12  Fantasy       1681 non-null   int64 \n",
      " 13  Film-Noir     1681 non-null   int64 \n",
      " 14  Horror        1681 non-null   int64 \n",
      " 15  Musical       1681 non-null   int64 \n",
      " 16  Mystery       1681 non-null   int64 \n",
      " 17  Romance       1681 non-null   int64 \n",
      " 18  Sci-Fi        1681 non-null   int64 \n",
      " 19  Thriller      1681 non-null   int64 \n",
      " 20  War           1681 non-null   int64 \n",
      " 21  Western       1681 non-null   int64 \n",
      "dtypes: int64(20), object(2)\n",
      "memory usage: 289.0+ KB\n",
      "None\n",
      "\n",
      "Describe of data\n",
      "          movie id      unknown       Action    Adventure    Animation  \\\n",
      "count  1681.000000  1681.000000  1681.000000  1681.000000  1681.000000   \n",
      "mean    841.841761     0.000595     0.149316     0.080309     0.024985   \n",
      "std     485.638077     0.024390     0.356506     0.271852     0.156126   \n",
      "min       1.000000     0.000000     0.000000     0.000000     0.000000   \n",
      "25%     422.000000     0.000000     0.000000     0.000000     0.000000   \n",
      "50%     842.000000     0.000000     0.000000     0.000000     0.000000   \n",
      "75%    1262.000000     0.000000     0.000000     0.000000     0.000000   \n",
      "max    1682.000000     1.000000     1.000000     1.000000     1.000000   \n",
      "\n",
      "         Childrens       Comedy        Crime  Documentary        Drama  \\\n",
      "count  1681.000000  1681.000000  1681.000000  1681.000000  1681.000000   \n",
      "mean      0.072576     0.300416     0.064842     0.029744     0.431291   \n",
      "std       0.259516     0.458576     0.246321     0.169931     0.495404   \n",
      "min       0.000000     0.000000     0.000000     0.000000     0.000000   \n",
      "25%       0.000000     0.000000     0.000000     0.000000     0.000000   \n",
      "50%       0.000000     0.000000     0.000000     0.000000     0.000000   \n",
      "75%       0.000000     1.000000     0.000000     0.000000     1.000000   \n",
      "max       1.000000     1.000000     1.000000     1.000000     1.000000   \n",
      "\n",
      "           Fantasy    Film-Noir       Horror      Musical      Mystery  \\\n",
      "count  1681.000000  1681.000000  1681.000000  1681.000000  1681.000000   \n",
      "mean      0.013087     0.014277     0.054729     0.033314     0.036288   \n",
      "std       0.113683     0.118667     0.227519     0.179507     0.187061   \n",
      "min       0.000000     0.000000     0.000000     0.000000     0.000000   \n",
      "25%       0.000000     0.000000     0.000000     0.000000     0.000000   \n",
      "50%       0.000000     0.000000     0.000000     0.000000     0.000000   \n",
      "75%       0.000000     0.000000     0.000000     0.000000     0.000000   \n",
      "max       1.000000     1.000000     1.000000     1.000000     1.000000   \n",
      "\n",
      "           Romance       Sci-Fi     Thriller          War      Western  \n",
      "count  1681.000000  1681.000000  1681.000000  1681.000000  1681.000000  \n",
      "mean      0.146936     0.060083     0.149316     0.042237     0.016062  \n",
      "std       0.354148     0.237712     0.356506     0.201189     0.125751  \n",
      "min       0.000000     0.000000     0.000000     0.000000     0.000000  \n",
      "25%       0.000000     0.000000     0.000000     0.000000     0.000000  \n",
      "50%       0.000000     0.000000     0.000000     0.000000     0.000000  \n",
      "75%       0.000000     0.000000     0.000000     0.000000     0.000000  \n",
      "max       1.000000     1.000000     1.000000     1.000000     1.000000  \n",
      "\n",
      "Shape of Data\n",
      "(1681, 22)\n",
      "\n",
      "Number of missing Values\n",
      "movie id        0\n",
      "movie title     0\n",
      "release date    0\n",
      "unknown         0\n",
      "Action          0\n",
      "Adventure       0\n",
      "Animation       0\n",
      "Childrens       0\n",
      "Comedy          0\n",
      "Crime           0\n",
      "Documentary     0\n",
      "Drama           0\n",
      "Fantasy         0\n",
      "Film-Noir       0\n",
      "Horror          0\n",
      "Musical         0\n",
      "Mystery         0\n",
      "Romance         0\n",
      "Sci-Fi          0\n",
      "Thriller        0\n",
      "War             0\n",
      "Western         0\n",
      "dtype: int64\n",
      "\n"
     ]
    }
   ],
   "source": [
    "print('item.csv File Information')\n",
    "print()\n",
    "print('First 5 rows of Data')\n",
    "print(Item.head())\n",
    "print()\n",
    "print('Information of data')\n",
    "print(Item.info())\n",
    "print()\n",
    "print('Describe of data')\n",
    "print(Item.describe())\n",
    "print()\n",
    "print('Shape of Data')\n",
    "print(Item.shape)\n",
    "print()\n",
    "print('Number of missing Values')\n",
    "print(Item.isnull().sum())\n",
    "print()\n",
    "\n"
   ]
  },
  {
   "cell_type": "code",
   "execution_count": 5,
   "metadata": {},
   "outputs": [
    {
     "name": "stdout",
     "output_type": "stream",
     "text": [
      "user.csv File Information\n",
      "\n",
      "First 5 rows of Data\n",
      "   user id  age gender  occupation zip code\n",
      "0        1   24      M  technician    85711\n",
      "1        2   53      F       other    94043\n",
      "2        3   23      M      writer    32067\n",
      "3        4   24      M  technician    43537\n",
      "4        5   33      F       other    15213\n",
      "\n",
      "Information of data\n",
      "<class 'pandas.core.frame.DataFrame'>\n",
      "RangeIndex: 943 entries, 0 to 942\n",
      "Data columns (total 5 columns):\n",
      " #   Column      Non-Null Count  Dtype \n",
      "---  ------      --------------  ----- \n",
      " 0   user id     943 non-null    int64 \n",
      " 1   age         943 non-null    int64 \n",
      " 2   gender      943 non-null    object\n",
      " 3   occupation  943 non-null    object\n",
      " 4   zip code    943 non-null    object\n",
      "dtypes: int64(2), object(3)\n",
      "memory usage: 37.0+ KB\n",
      "None\n",
      "\n",
      "Describe of data\n",
      "          user id         age\n",
      "count  943.000000  943.000000\n",
      "mean   472.000000   34.051962\n",
      "std    272.364951   12.192740\n",
      "min      1.000000    7.000000\n",
      "25%    236.500000   25.000000\n",
      "50%    472.000000   31.000000\n",
      "75%    707.500000   43.000000\n",
      "max    943.000000   73.000000\n",
      "\n",
      "Shape of Data\n",
      "(943, 5)\n",
      "\n",
      "Number of missing Values\n",
      "user id       0\n",
      "age           0\n",
      "gender        0\n",
      "occupation    0\n",
      "zip code      0\n",
      "dtype: int64\n",
      "\n"
     ]
    }
   ],
   "source": [
    "print('user.csv File Information')\n",
    "print()\n",
    "print('First 5 rows of Data')\n",
    "print(User.head())\n",
    "print()\n",
    "print('Information of data')\n",
    "print(User.info())\n",
    "print()\n",
    "print('Describe of data')\n",
    "print(User.describe())\n",
    "print()\n",
    "print('Shape of Data')\n",
    "print(User.shape)\n",
    "print()\n",
    "print('Number of missing Values')\n",
    "print(User.isnull().sum())\n",
    "print()\n",
    "\n"
   ]
  },
  {
   "cell_type": "markdown",
   "metadata": {},
   "source": [
    "#### 4. Find the number of movies per genre using the item data - 5 marks"
   ]
  },
  {
   "cell_type": "code",
   "execution_count": 6,
   "metadata": {
    "scrolled": true
   },
   "outputs": [
    {
     "name": "stdout",
     "output_type": "stream",
     "text": [
      "\n",
      "Number of Movies per Genre:\n",
      "unknown          1\n",
      "Action         251\n",
      "Adventure      135\n",
      "Animation       42\n",
      "Childrens      122\n",
      "Comedy         505\n",
      "Crime          109\n",
      "Documentary     50\n",
      "Drama          725\n",
      "Fantasy         22\n",
      "Film-Noir       24\n",
      "Horror          92\n",
      "Musical         56\n",
      "Mystery         61\n",
      "Romance        247\n",
      "Sci-Fi         101\n",
      "Thriller       251\n",
      "War             71\n",
      "Western         27\n",
      "dtype: int64\n"
     ]
    }
   ],
   "source": [
    "# use sum on the default axis\n",
    "\n",
    "\n",
    "#Remove 'movie id','movie title','release date'\n",
    "print()\n",
    "\n",
    "Item_Genres = Item.drop(['movie id','movie title','release date'],axis=1,inplace=False)\n",
    "\n",
    "#Show Number of Movies per Genre\n",
    "print('Number of Movies per Genre:')\n",
    "\n",
    "print(Item_Genres.sum())\n"
   ]
  },
  {
   "cell_type": "markdown",
   "metadata": {},
   "source": [
    "#### 5. Find the movies that have more than one genre - 2.5 marks"
   ]
  },
  {
   "cell_type": "code",
   "execution_count": 7,
   "metadata": {},
   "outputs": [
    {
     "name": "stdout",
     "output_type": "stream",
     "text": [
      "      movie id         movie title release date  unknown  Action  Adventure  \\\n",
      "0            1          Toy Story   01-Jan-1995        0       0          0   \n",
      "1            2          GoldenEye   01-Jan-1995        0       1          1   \n",
      "3            4         Get Shorty   01-Jan-1995        0       1          0   \n",
      "4            5            Copycat   01-Jan-1995        0       0          0   \n",
      "6            7     Twelve Monkeys   01-Jan-1995        0       0          0   \n",
      "...        ...                 ...          ...      ...     ...        ...   \n",
      "1667      1669  MURDER and murder   20-Jun-1997        0       0          0   \n",
      "1668      1670            Tainted   01-Feb-1998        0       0          0   \n",
      "1671      1673             Mirage   01-Jan-1995        0       1          0   \n",
      "1677      1679          B. Monkey   06-Feb-1998        0       0          0   \n",
      "1678      1680      Sliding Doors   01-Jan-1998        0       0          0   \n",
      "\n",
      "      Animation  Childrens  Comedy  Crime  ...  Fantasy  Film-Noir  Horror  \\\n",
      "0             1          1       1      0  ...        0          0       0   \n",
      "1             0          0       0      0  ...        0          0       0   \n",
      "3             0          0       1      0  ...        0          0       0   \n",
      "4             0          0       0      1  ...        0          0       0   \n",
      "6             0          0       0      0  ...        0          0       0   \n",
      "...         ...        ...     ...    ...  ...      ...        ...     ...   \n",
      "1667          0          0       0      1  ...        0          0       0   \n",
      "1668          0          0       1      0  ...        0          0       0   \n",
      "1671          0          0       0      0  ...        0          0       0   \n",
      "1677          0          0       0      0  ...        0          0       0   \n",
      "1678          0          0       0      0  ...        0          0       0   \n",
      "\n",
      "      Musical  Mystery  Romance  Sci-Fi  Thriller  War  Western  \n",
      "0           0        0        0       0         0    0        0  \n",
      "1           0        0        0       0         1    0        0  \n",
      "3           0        0        0       0         0    0        0  \n",
      "4           0        0        0       0         1    0        0  \n",
      "6           0        0        0       1         0    0        0  \n",
      "...       ...      ...      ...     ...       ...  ...      ...  \n",
      "1667        0        1        0       0         0    0        0  \n",
      "1668        0        0        0       0         1    0        0  \n",
      "1671        0        0        0       0         1    0        0  \n",
      "1677        0        0        1       0         1    0        0  \n",
      "1678        0        0        1       0         0    0        0  \n",
      "\n",
      "[849 rows x 22 columns]\n"
     ]
    }
   ],
   "source": [
    "#hint: use sum on the axis = 1\n",
    "\n",
    "#Get count of genres\n",
    "Item_edited = Item.drop('movie id',axis=1,inplace=False)\n",
    "Genre_count = Item_edited.sum(axis=1)\n",
    "\n",
    "#Get count of more than one Genres\n",
    "Genre_count1 = Genre_count.gt(1)\n",
    "\n",
    "#Print all the genres where count is more than 1\n",
    "print(Item[Genre_count1])\n"
   ]
  },
  {
   "cell_type": "markdown",
   "metadata": {},
   "source": [
    "#### 6. Drop the movie where the genre is unknown - 2.5 marks"
   ]
  },
  {
   "cell_type": "code",
   "execution_count": 8,
   "metadata": {},
   "outputs": [
    {
     "name": "stdout",
     "output_type": "stream",
     "text": [
      "Original Shape of Item (1681, 22)\n",
      "Sum of Unknown Genres: 1\n",
      "\n",
      "      movie id    movie title release date  unknown  Action  Adventure  \\\n",
      "1371      1373  Good Morning    4-Feb-1971        1       0          0   \n",
      "\n",
      "      Animation  Childrens  Comedy  Crime  ...  Fantasy  Film-Noir  Horror  \\\n",
      "1371          0          0       0      0  ...        0          0       0   \n",
      "\n",
      "      Musical  Mystery  Romance  Sci-Fi  Thriller  War  Western  \n",
      "1371        0        0        0       0         0    0        0  \n",
      "\n",
      "[1 rows x 22 columns]\n",
      "New Shape of Item (1680, 22)\n"
     ]
    }
   ],
   "source": [
    "#Get Shape of Item\n",
    "print('Original Shape of Item', Item.shape)\n",
    "\n",
    "#Get just unknow Genres \n",
    "Item1 = Item['unknown']\n",
    "\n",
    "print('Sum of Unknown Genres:', Item['unknown'].sum())\n",
    "print()\n",
    "\n",
    "#Unknown Genres Info\n",
    "print(Item[Item1.gt(0)])\n",
    "\n",
    "#Drop Unknown Genres\n",
    "Item.drop(Item[Item1.gt(0)].index,axis=0,inplace=True) #Change inplace=True\n",
    "\n",
    "Item.reset_index()\n",
    "\n",
    "#Get Shape of Item after drop\n",
    "print('New Shape of Item', Item.shape)\n",
    "\n"
   ]
  },
  {
   "cell_type": "markdown",
   "metadata": {},
   "source": [
    "### 7. Univariate plots of columns: 'rating', 'Age', 'release year', 'Gender' and 'Occupation' - 10 marks"
   ]
  },
  {
   "cell_type": "code",
   "execution_count": 9,
   "metadata": {},
   "outputs": [
    {
     "data": {
      "image/png": "[encoded data removed]",
      "text/plain": [
       "<Figure size 432x288 with 1 Axes>"
      ]
     },
     "metadata": {},
     "output_type": "display_data"
    }
   ],
   "source": [
    "# HINT: use distplot for age and countplot for gender,ratings,occupation.\n",
    "# HINT: Please refer to the below snippet to understand how to get to release year from release date. You can use str.split()\n",
    "# as depicted below\n",
    "# Hint : Use displot without kde for release year or line plot showing year wise count.\n",
    "\n",
    "sns.distplot(User['age']);\n"
   ]
  },
  {
   "cell_type": "code",
   "execution_count": 10,
   "metadata": {},
   "outputs": [
    {
     "data": {
      "image/png": "[encoded data removed]",
      "text/plain": [
       "<Figure size 432x288 with 1 Axes>"
      ]
     },
     "metadata": {},
     "output_type": "display_data"
    }
   ],
   "source": [
    "sns.countplot(User['gender']);"
   ]
  },
  {
   "cell_type": "code",
   "execution_count": 11,
   "metadata": {
    "scrolled": true
   },
   "outputs": [
    {
     "data": {
      "image/png": "[encoded data removed]",
      "text/plain": [
       "<Figure size 1800x720 with 1 Axes>"
      ]
     },
     "metadata": {},
     "output_type": "display_data"
    }
   ],
   "source": [
    "plt.figure(figsize=(25,10))\n",
    "sns.countplot(User['occupation']);"
   ]
  },
  {
   "cell_type": "code",
   "execution_count": 12,
   "metadata": {
    "scrolled": false
   },
   "outputs": [
    {
     "data": {
      "image/png": "[encoded data removed]",
      "text/plain": [
       "<Figure size 432x288 with 1 Axes>"
      ]
     },
     "metadata": {},
     "output_type": "display_data"
    }
   ],
   "source": [
    "sns.countplot(Data['rating']);"
   ]
  },
  {
   "cell_type": "code",
   "execution_count": null,
   "metadata": {},
   "outputs": [],
   "source": [
    "a = 'My*cat*is*brown'\n",
    "print(a.split('*')[3])\n",
    "\n",
    "#similarly, the release year needs to be taken out from release date\n",
    "\n",
    "#also you can simply slice existing string to get the desired data, if we want to take out the colour of the cat\n",
    "\n",
    "print(a[10:])\n",
    "print(a[-5:])"
   ]
  },
  {
   "cell_type": "code",
   "execution_count": 13,
   "metadata": {},
   "outputs": [
    {
     "data": {
      "image/png": "[encoded data removed]",
      "text/plain": [
       "<Figure size 432x288 with 1 Axes>"
      ]
     },
     "metadata": {},
     "output_type": "display_data"
    }
   ],
   "source": [
    "#your answers here\n",
    "\n",
    "from datetime import datetime\n",
    "\n",
    "Item['Release DateTime'] = pd.to_datetime(Item['release date'])\n",
    "\n",
    "Item['release year'] = Item['Release DateTime'].dt.year\n",
    "\n",
    "\n",
    "#print(Item.info())\n",
    "\n",
    "sns.distplot(Item['release year'], kde=False);\n",
    "\n"
   ]
  },
  {
   "cell_type": "markdown",
   "metadata": {},
   "source": [
    "### 8. Visualize how popularity of genres has changed over the years - 10 marks\n",
    "\n",
    "Note that you need to use the number of releases in a year as a parameter of popularity of a genre"
   ]
  },
  {
   "cell_type": "markdown",
   "metadata": {},
   "source": [
    "Hint 1: you need to reach to a data frame where the release year is the index and the genre is the column names (one cell shows the number of release in a year in one genre) or vice versa.\n",
    "Once that is achieved, you can either use univariate plots or can use the heatmap to visualise all the changes over the years \n",
    "in one go. \n",
    "\n",
    "Hint 2: Use groupby on the relevant column and use sum() on the same to find out the nuumber of releases in a year/genre.  "
   ]
  },
  {
   "cell_type": "code",
   "execution_count": 14,
   "metadata": {},
   "outputs": [
    {
     "data": {
      "image/png": "[encoded data removed]",
      "text/plain": [
       "<Figure size 864x576 with 2 Axes>"
      ]
     },
     "metadata": {},
     "output_type": "display_data"
    }
   ],
   "source": [
    "#Your answer here\n",
    "\n",
    "#Group Data by Realease Year\n",
    "grouped_data = Item.groupby('release year')\n",
    "#print(grouped_data)\n",
    "\n",
    "#Get Sum of Data by Release Year \n",
    "Item_Release_Year = grouped_data.sum()\n",
    "\n",
    "#Remove Moevie ID to get the final Data Frame\n",
    "Item_Release_Year = Item_Release_Year.drop('movie id',axis=1,inplace=False)\n",
    "\n",
    "#print(Item_Release_Year)\n",
    "\n",
    "#sns.distplot(Item_Release_Year['Action']);\n",
    "\n",
    "plt.figure(figsize=(12,8))\n",
    "sns.heatmap(Item_Release_Year);\n"
   ]
  },
  {
   "cell_type": "markdown",
   "metadata": {},
   "source": [
    "### 9. Find the top 25 movies according to average ratings such that each movie has number of ratings more than 100 - 10 marks\n",
    "\n",
    "Hint : \n",
    "1. First find the movies that have more than 100 ratings(use merge, groupby and count). Extract the movie titles in a list.\n",
    "2. Find the average rating of all the movies and sort them in the descending order. You will have to use the .merge() function to reach to a data set through which you can get the names and the average rating.\n",
    "3. Use isin(list obtained from 1) to filter out the movies which have more than 100 ratings.\n",
    "\n",
    "Note: This question will need you to research about groupby and apply your findings. You can find more on groupby on https://realpython.com/pandas-groupby/."
   ]
  },
  {
   "cell_type": "code",
   "execution_count": 15,
   "metadata": {},
   "outputs": [
    {
     "name": "stdout",
     "output_type": "stream",
     "text": [
      "     movie id                                        movie title  \\\n",
      "406       408                                    Close Shave, A    \n",
      "316       318                                  Schindler's List    \n",
      "168       169                               Wrong Trousers, The    \n",
      "481       483                                        Casablanca    \n",
      "63         64                         Shawshank Redemption, The    \n",
      "601       603                                       Rear Window    \n",
      "11         12                               Usual Suspects, The    \n",
      "49         50                                         Star Wars    \n",
      "177       178                                      12 Angry Men    \n",
      "133       134                                      Citizen Kane    \n",
      "425       427                             To Kill a Mockingbird    \n",
      "355       357                   One Flew Over the Cuckoo's Nest    \n",
      "97         98                         Silence of the Lambs, The    \n",
      "478       480                                North by Northwest    \n",
      "126       127                                    Godfather, The    \n",
      "283       285                                    Secrets & Lies    \n",
      "270       272                                 Good Will Hunting    \n",
      "655       657                         Manchurian Candidate, The    \n",
      "472       474  Dr. Strangelove or: How I Learned to Stop Worr...   \n",
      "173       174                           Raiders of the Lost Ark    \n",
      "477       479                                           Vertigo    \n",
      "311       313                                           Titanic    \n",
      "509       511                                Lawrence of Arabia    \n",
      "482       484                               Maltese Falcon, The    \n",
      "171       172                          Empire Strikes Back, The    \n",
      "\n",
      "     Average rating  \n",
      "406        4.491071  \n",
      "316        4.466443  \n",
      "168        4.466102  \n",
      "481        4.456790  \n",
      "63         4.445230  \n",
      "601        4.387560  \n",
      "11         4.385768  \n",
      "49         4.358491  \n",
      "177        4.344000  \n",
      "133        4.292929  \n",
      "425        4.292237  \n",
      "355        4.291667  \n",
      "97         4.289744  \n",
      "478        4.284916  \n",
      "126        4.283293  \n",
      "283        4.265432  \n",
      "270        4.262626  \n",
      "655        4.259542  \n",
      "472        4.252577  \n",
      "173        4.252381  \n",
      "477        4.251397  \n",
      "311        4.245714  \n",
      "509        4.231214  \n",
      "482        4.210145  \n",
      "171        4.204360  \n"
     ]
    }
   ],
   "source": [
    "#your answer here\n",
    "\n",
    "\n",
    "#Merge Item and Data\n",
    "Movie_Data = pd.merge(Data,Item,how='inner',on='movie id')\n",
    "#print(Movie_Data.head(2))\n",
    "\n",
    "#Get Count of ratings for each movie\n",
    "Movies_grouped = Movie_Data.groupby('movie id').count()\n",
    "#print(Movies_grouped.head(5))\n",
    "\n",
    "#Get Movies with greater than 100 ratings\n",
    "Movies_grouped1 = Movies_grouped[Movies_grouped['rating'].gt(100)]\n",
    "#print(Movies_grouped1.head(3))\n",
    "\n",
    "Movies_G100  = list(Movies_grouped1.index.values)\n",
    "#print(Movies_G100)\n",
    "#print('>100', type(Movies_G100))\n",
    "\n",
    "\n",
    "#Get average rating of each movie\n",
    "Movies_grouped2 = Movie_Data.groupby('movie id').mean()\n",
    "#print(Movies_grouped2.head(10))\n",
    "\n",
    "Item_1 = Item\n",
    "Item_1['Average rating'] = list(Movies_grouped2['rating'])\n",
    "#print(Item_1.head(10))\n",
    "\n",
    "Item_1 = Item_1[Item_1['movie id'].isin(Movies_G100)]\n",
    "\n",
    "Item_1 = Item_1.sort_values(by='Average rating',ascending=False,inplace=False)\n",
    "Movies_T25 = Item_1.head(25)\n",
    "\n",
    "print(Movies_T25[['movie id','movie title','Average rating']])\n",
    "\n",
    "\n"
   ]
  },
  {
   "cell_type": "markdown",
   "metadata": {},
   "source": [
    "### 10. See gender distribution across different genres check for the validity of the below statements - 10 marks\n",
    "\n",
    "* Men watch more drama than women\n",
    "* Women watch more Sci-Fi than men\n",
    "* Men watch more Romance than women\n"
   ]
  },
  {
   "cell_type": "markdown",
   "metadata": {},
   "source": [
    "1. There is no need to conduct statistical tests around this. Just compare the percentages and comment on the validity of the above statements.\n",
    "\n",
    "2. you might want ot use the .sum(), .div() function here.\n",
    "3. Use number of ratings to validate the numbers. For example, if out of 4000 ratings received by women, 3000 are for drama, we will assume that 75% of the women watch drama."
   ]
  },
  {
   "cell_type": "markdown",
   "metadata": {},
   "source": [
    "#### Conclusion:\n",
    "\n"
   ]
  },
  {
   "cell_type": "code",
   "execution_count": 16,
   "metadata": {},
   "outputs": [
    {
     "name": "stdout",
     "output_type": "stream",
     "text": [
      "\n",
      "gender\n",
      "F    11008.0\n",
      "M    28887.0\n",
      "Name: Drama, dtype: float64\n",
      "\n",
      "gender\n",
      "F     2629.0\n",
      "M    10101.0\n",
      "Name: Sci-Fi, dtype: float64\n",
      "\n",
      "gender\n",
      "F     5858.0\n",
      "M    13603.0\n",
      "Name: Romance, dtype: float64\n",
      "\n",
      "Drama rating User Male Vs Female :  gender\n",
      "F    0.427661\n",
      "M    0.388998\n",
      "dtype: float64\n",
      "\n",
      "\"Men watch more drama than women\" is False \n",
      "\n",
      "\n",
      "Sci-Fi rating User Male Vs Female :  gender\n",
      "F    0.102137\n",
      "M    0.136022\n",
      "dtype: float64\n",
      "\n",
      "\"Women watch more Sci-Fi than men\" is False \n",
      "\n",
      "\n",
      "Romance rating User Male Vs Female :  gender\n",
      "F    0.227584\n",
      "M    0.183181\n",
      "dtype: float64\n",
      "\n",
      "\"Men watch more Romance than women\" is False\n",
      "\n"
     ]
    }
   ],
   "source": [
    "#Merge Item and Data\n",
    "Movie_Data = pd.merge(Data,Item,how='outer',on='movie id')\n",
    "\n",
    "#Merge Movie_Data and User\n",
    "User_Movie_Data = pd.merge(Movie_Data,User,how='outer',on='user id')\n",
    "#print(User_Movie_Data.head())\n",
    "\n",
    "User_Data = User_Movie_Data\n",
    "\n",
    "\n",
    "User_Movies_grouped = User_Data.groupby('gender').count()\n",
    "#print(User_Movies_grouped)\n",
    "\n",
    "\n",
    "User_Movies_grouped1 = User_Data.groupby('gender').sum()\n",
    "#print(User_Movies_grouped1)\n",
    "\n",
    "\n",
    "print()\n",
    "print(User_Movies_grouped1['Drama'])\n",
    "print()\n",
    "print(User_Movies_grouped1['Sci-Fi'])\n",
    "print()\n",
    "print(User_Movies_grouped1['Romance'])\n",
    "\n",
    "print()\n",
    "\n",
    "Drama_User = User_Movies_grouped1['Drama'].divide(User_Movies_grouped['user id'], fill_value=0)\n",
    "print('Drama rating User Male Vs Female : ', Drama_User)\n",
    "print()\n",
    "print('\"Men watch more drama than women\" is False \\n')\n",
    "print()\n",
    "\n",
    "SciFi_User = User_Movies_grouped1['Sci-Fi'].divide(User_Movies_grouped['user id'], fill_value=0)\n",
    "print('Sci-Fi rating User Male Vs Female : ', SciFi_User)\n",
    "print()\n",
    "print('\"Women watch more Sci-Fi than men\" is False \\n')\n",
    "print()\n",
    "\n",
    "Romance_User = User_Movies_grouped1['Romance'].divide(User_Movies_grouped['user id'], fill_value=0)\n",
    "print('Romance rating User Male Vs Female : ', Romance_User)\n",
    "print()\n",
    "print('\"Men watch more Romance than women\" is False')\n",
    "print()\n",
    "\n",
    "\n",
    "\n"
   ]
  },
  {
   "cell_type": "code",
   "execution_count": null,
   "metadata": {},
   "outputs": [],
   "source": []
  }
 ],
 "metadata": {
  "kernelspec": {
   "display_name": "Python 3",
   "language": "python",
   "name": "python3"
  },
  "language_info": {
   "codemirror_mode": {
    "name": "ipython",
    "version": 3
   },
   "file_extension": ".py",
   "mimetype": "text/x-python",
   "name": "python",
   "nbconvert_exporter": "python",
   "pygments_lexer": "ipython3",
   "version": "3.7.6"
  }
 },
 "nbformat": 4,
 "nbformat_minor": 2
}
